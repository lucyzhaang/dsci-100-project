{
 "cells": [
  {
   "cell_type": "markdown",
   "id": "6fffbf92-7edb-4568-a15b-8370ae0092bc",
   "metadata": {},
   "source": [
    "<h1> 'Kinds' of Players That Contribute to a Large Amount of Data </h1>"
   ]
  },
  {
   "cell_type": "markdown",
   "id": "9466a42c-8f41-49fa-8d3d-d7ad78283372",
   "metadata": {},
   "source": [
    "<h3> Introduction </h3>\n",
    "\n",
    "A research group in UBC Computer Science, led by Frank Wood, is collecting data on how people play video games by setting up a Minecraft server. Players' actions are collected through gameplay to analyze predictive factors for subscribing to a game-related newsletter; the lab also has other questions of interest, however, for this analysis, the focused question of interest will be explored.\n",
    "\n",
    "This analysis asks if age and hours played can predict whether players are subscribed to the newsletter or not, using the `players.csv` dataset. \n",
    "\n",
    "This data is retrieved from Wood's research group. In this data, there are 196 players, each containing 7 different properties:\n",
    "\n",
    "1. `experience`: The experience of the player (categorized from Beginner, Amateur, Regular, Pro, Veteran).\n",
    "2. `subscribe`: Whether the player is subscribed to a game-related newsletter or not.\n",
    "3. `hashedEmail`: The player's encrypted email.\n",
    "4. `played_hours`: The total hours the player has contributed to the Minecraft server.\n",
    "5. `name`: The player's first name.\n",
    "6. `gender`: The player's gender.\n",
    "7. `Age`: The age of the player."
   ]
  },
  {
   "cell_type": "markdown",
   "id": "7ff322f6-2240-4995-8cdb-749576080860",
   "metadata": {},
   "source": [
    "<h3> Methods </h3>\n",
    "\n",
    "This analysis\n",
    "\n",
    "First, we load in the necessary packages to conduct our analysis."
   ]
  },
  {
   "cell_type": "code",
   "execution_count": 2,
   "id": "92a18275-7f4f-4457-9110-96c0a9d5b492",
   "metadata": {},
   "outputs": [],
   "source": [
    "library(tidyverse)\n",
    "library(repr)\n",
    "library(tidymodels)\n",
    "options(repr.matrix.max.rows = 6)"
   ]
  },
  {
   "cell_type": "markdown",
   "id": "04530bc8-f376-4b29-be98-58bed6c7d962",
   "metadata": {},
   "source": [
    "The data `players.csv` was retrieved from Wood's research group. This is uploaded from the GitHub repository; we can read the data in from the data folder. We will also remove the hashed email column."
   ]
  },
  {
   "cell_type": "code",
   "execution_count": 5,
   "id": "fc6f0a6e-e66e-4940-91ee-d91f5546395f",
   "metadata": {},
   "outputs": [
    {
     "name": "stderr",
     "output_type": "stream",
     "text": [
      "\u001b[1mRows: \u001b[22m\u001b[34m196\u001b[39m \u001b[1mColumns: \u001b[22m\u001b[34m7\u001b[39m\n",
      "\u001b[36m──\u001b[39m \u001b[1mColumn specification\u001b[22m \u001b[36m────────────────────────────────────────────────────────\u001b[39m\n",
      "\u001b[1mDelimiter:\u001b[22m \",\"\n",
      "\u001b[31mchr\u001b[39m (4): experience, hashedEmail, name, gender\n",
      "\u001b[32mdbl\u001b[39m (2): played_hours, Age\n",
      "\u001b[33mlgl\u001b[39m (1): subscribe\n",
      "\n",
      "\u001b[36mℹ\u001b[39m Use `spec()` to retrieve the full column specification for this data.\n",
      "\u001b[36mℹ\u001b[39m Specify the column types or set `show_col_types = FALSE` to quiet this message.\n"
     ]
    },
    {
     "data": {
      "text/html": [
       "<table class=\"dataframe\">\n",
       "<caption>A tibble: 6 × 6</caption>\n",
       "<thead>\n",
       "\t<tr><th scope=col>experience</th><th scope=col>subscribe</th><th scope=col>played_hours</th><th scope=col>name</th><th scope=col>gender</th><th scope=col>Age</th></tr>\n",
       "\t<tr><th scope=col>&lt;chr&gt;</th><th scope=col>&lt;lgl&gt;</th><th scope=col>&lt;dbl&gt;</th><th scope=col>&lt;chr&gt;</th><th scope=col>&lt;chr&gt;</th><th scope=col>&lt;dbl&gt;</th></tr>\n",
       "</thead>\n",
       "<tbody>\n",
       "\t<tr><td>Pro    </td><td> TRUE</td><td>30.3</td><td>Morgan   </td><td>Male  </td><td> 9</td></tr>\n",
       "\t<tr><td>Veteran</td><td> TRUE</td><td> 3.8</td><td>Christian</td><td>Male  </td><td>17</td></tr>\n",
       "\t<tr><td>Veteran</td><td>FALSE</td><td> 0.0</td><td>Blake    </td><td>Male  </td><td>17</td></tr>\n",
       "\t<tr><td>Amateur</td><td> TRUE</td><td> 0.7</td><td>Flora    </td><td>Female</td><td>21</td></tr>\n",
       "\t<tr><td>Regular</td><td> TRUE</td><td> 0.1</td><td>Kylie    </td><td>Male  </td><td>21</td></tr>\n",
       "\t<tr><td>Amateur</td><td> TRUE</td><td> 0.0</td><td>Adrian   </td><td>Female</td><td>17</td></tr>\n",
       "</tbody>\n",
       "</table>\n"
      ],
      "text/latex": [
       "A tibble: 6 × 6\n",
       "\\begin{tabular}{llllll}\n",
       " experience & subscribe & played\\_hours & name & gender & Age\\\\\n",
       " <chr> & <lgl> & <dbl> & <chr> & <chr> & <dbl>\\\\\n",
       "\\hline\n",
       "\t Pro     &  TRUE & 30.3 & Morgan    & Male   &  9\\\\\n",
       "\t Veteran &  TRUE &  3.8 & Christian & Male   & 17\\\\\n",
       "\t Veteran & FALSE &  0.0 & Blake     & Male   & 17\\\\\n",
       "\t Amateur &  TRUE &  0.7 & Flora     & Female & 21\\\\\n",
       "\t Regular &  TRUE &  0.1 & Kylie     & Male   & 21\\\\\n",
       "\t Amateur &  TRUE &  0.0 & Adrian    & Female & 17\\\\\n",
       "\\end{tabular}\n"
      ],
      "text/markdown": [
       "\n",
       "A tibble: 6 × 6\n",
       "\n",
       "| experience &lt;chr&gt; | subscribe &lt;lgl&gt; | played_hours &lt;dbl&gt; | name &lt;chr&gt; | gender &lt;chr&gt; | Age &lt;dbl&gt; |\n",
       "|---|---|---|---|---|---|\n",
       "| Pro     |  TRUE | 30.3 | Morgan    | Male   |  9 |\n",
       "| Veteran |  TRUE |  3.8 | Christian | Male   | 17 |\n",
       "| Veteran | FALSE |  0.0 | Blake     | Male   | 17 |\n",
       "| Amateur |  TRUE |  0.7 | Flora     | Female | 21 |\n",
       "| Regular |  TRUE |  0.1 | Kylie     | Male   | 21 |\n",
       "| Amateur |  TRUE |  0.0 | Adrian    | Female | 17 |\n",
       "\n"
      ],
      "text/plain": [
       "  experience subscribe played_hours name      gender Age\n",
       "1 Pro         TRUE     30.3         Morgan    Male    9 \n",
       "2 Veteran     TRUE      3.8         Christian Male   17 \n",
       "3 Veteran    FALSE      0.0         Blake     Male   17 \n",
       "4 Amateur     TRUE      0.7         Flora     Female 21 \n",
       "5 Regular     TRUE      0.1         Kylie     Male   21 \n",
       "6 Amateur     TRUE      0.0         Adrian    Female 17 "
      ]
     },
     "metadata": {},
     "output_type": "display_data"
    }
   ],
   "source": [
    "players <- read_csv('data/players.csv') |>\n",
    "    select(-hashedEmail)\n",
    "head(players)"
   ]
  },
  {
   "cell_type": "code",
   "execution_count": null,
   "id": "8cc48ff8-d8c3-4274-a04f-71e48aa93f44",
   "metadata": {},
   "outputs": [],
   "source": []
  },
  {
   "cell_type": "code",
   "execution_count": null,
   "id": "4621e244-d336-46e9-a598-e7df3344ad1a",
   "metadata": {},
   "outputs": [],
   "source": []
  },
  {
   "cell_type": "markdown",
   "id": "c44cd2e5-6697-4fc1-99f6-840a7e8e0962",
   "metadata": {},
   "source": [
    "Because we are focusing on the age and hours played as a predictor for whether players subscribe to a newsletter or not, we will filter out all NA values and select only `subscribe`, `played_hours`, and `Age` as columns in our tidied dataframe. "
   ]
  },
  {
   "cell_type": "code",
   "execution_count": 6,
   "id": "c76e6f9b-f0c5-41fd-92ad-01684edc2462",
   "metadata": {},
   "outputs": [
    {
     "data": {
      "text/html": [
       "<table class=\"dataframe\">\n",
       "<caption>A tibble: 6 × 3</caption>\n",
       "<thead>\n",
       "\t<tr><th scope=col>subscribe</th><th scope=col>played_hours</th><th scope=col>Age</th></tr>\n",
       "\t<tr><th scope=col>&lt;lgl&gt;</th><th scope=col>&lt;dbl&gt;</th><th scope=col>&lt;dbl&gt;</th></tr>\n",
       "</thead>\n",
       "<tbody>\n",
       "\t<tr><td> TRUE</td><td>30.3</td><td> 9</td></tr>\n",
       "\t<tr><td> TRUE</td><td> 3.8</td><td>17</td></tr>\n",
       "\t<tr><td>FALSE</td><td> 0.0</td><td>17</td></tr>\n",
       "\t<tr><td> TRUE</td><td> 0.7</td><td>21</td></tr>\n",
       "\t<tr><td> TRUE</td><td> 0.1</td><td>21</td></tr>\n",
       "\t<tr><td> TRUE</td><td> 0.0</td><td>17</td></tr>\n",
       "</tbody>\n",
       "</table>\n"
      ],
      "text/latex": [
       "A tibble: 6 × 3\n",
       "\\begin{tabular}{lll}\n",
       " subscribe & played\\_hours & Age\\\\\n",
       " <lgl> & <dbl> & <dbl>\\\\\n",
       "\\hline\n",
       "\t  TRUE & 30.3 &  9\\\\\n",
       "\t  TRUE &  3.8 & 17\\\\\n",
       "\t FALSE &  0.0 & 17\\\\\n",
       "\t  TRUE &  0.7 & 21\\\\\n",
       "\t  TRUE &  0.1 & 21\\\\\n",
       "\t  TRUE &  0.0 & 17\\\\\n",
       "\\end{tabular}\n"
      ],
      "text/markdown": [
       "\n",
       "A tibble: 6 × 3\n",
       "\n",
       "| subscribe &lt;lgl&gt; | played_hours &lt;dbl&gt; | Age &lt;dbl&gt; |\n",
       "|---|---|---|\n",
       "|  TRUE | 30.3 |  9 |\n",
       "|  TRUE |  3.8 | 17 |\n",
       "| FALSE |  0.0 | 17 |\n",
       "|  TRUE |  0.7 | 21 |\n",
       "|  TRUE |  0.1 | 21 |\n",
       "|  TRUE |  0.0 | 17 |\n",
       "\n"
      ],
      "text/plain": [
       "  subscribe played_hours Age\n",
       "1  TRUE     30.3          9 \n",
       "2  TRUE      3.8         17 \n",
       "3 FALSE      0.0         17 \n",
       "4  TRUE      0.7         21 \n",
       "5  TRUE      0.1         21 \n",
       "6  TRUE      0.0         17 "
      ]
     },
     "metadata": {},
     "output_type": "display_data"
    }
   ],
   "source": [
    "players_clean <- players |>\n",
    "    select(subscribe, played_hours, Age) |>\n",
    "    na.omit()\n",
    "\n",
    "head(players_clean)"
   ]
  },
  {
   "cell_type": "markdown",
   "id": "72ad3571-20e0-40cf-a8e6-168dcd02ef2b",
   "metadata": {},
   "source": [
    "Make model to see if experience and age model"
   ]
  },
  {
   "cell_type": "code",
   "execution_count": null,
   "id": "b1398304-8a45-49a9-bb42-e9b837080235",
   "metadata": {},
   "outputs": [],
   "source": [
    "players_recipe <- recipes( ~ . , players) |>\n",
    "    step_center(all_predictors()) |>\n",
    "    step_scale(all_predictors())\n",
    "\n",
    "players_spec"
   ]
  }
 ],
 "metadata": {
  "kernelspec": {
   "display_name": "R",
   "language": "R",
   "name": "ir"
  },
  "language_info": {
   "codemirror_mode": "r",
   "file_extension": ".r",
   "mimetype": "text/x-r-source",
   "name": "R",
   "pygments_lexer": "r",
   "version": "4.3.3"
  }
 },
 "nbformat": 4,
 "nbformat_minor": 5
}
